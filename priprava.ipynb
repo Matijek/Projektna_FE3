{
 "cells": [
  {
   "cell_type": "markdown",
   "id": "ef638ae5",
   "metadata": {},
   "source": [
    "# Optična rotacija v sladkorni vodi\n",
    "\n",
    "## Uvod\n",
    "\n",
    "Optična rotacija je pojav, kjer kiralne molekule, kot so saharoza, zavrtijo ravnino polarizirane svetlobe. Ta pojav je odvisen od:\n",
    "- koncentracije snovi \\(c\\),\n",
    "- dolžine poti svetlobe \\(l\\),\n",
    "- valovne dolžine svetlobe \\($\\lambda$).\n",
    "\n",
    "## Osnovna enačba\n",
    "\n",
    "Kot rotacije $\\alpha$ je povezan s specifično rotacijo $[\\alpha]_\\lambda$ preko:\n",
    "\n",
    "$\\alpha(\\lambda) = [\\alpha]_\\lambda \\cdot c \\cdot l$\n",
    "\n",
    "Specifična rotacija je funkcija valovne dolžine in jo lahko približamo z Drudejevim modelom:\n",
    "\n",
    "\n",
    "$[\\alpha](\\lambda) = \\frac{k \\lambda^2}{\\lambda^2 - A^2}$\n",
    "\n",
    "kjer sta \\(k\\) in \\(A\\) parametra, ki ju bomo določili s prilagajanjem modela na meritve.\n",
    "\n",
    "## Namen eksperimenta\n",
    "\n",
    "Merili bomo kot rotacije za različne koncentracije saharoze pri dveh valovnih dolžinah (rdeča ~650 nm, zelena ~532 nm). Poleg tega bomo primerjali dve vrsti medu, naravnega in sintetičnega, da pokažemo razliko v optični aktivnosti."
   ]
  },
  {
   "cell_type": "markdown",
   "id": "a945ec31",
   "metadata": {},
   "source": [
    "# Korak 2: Priprava podatkov za eksperiment in zapis napak\n",
    "\n",
    "---\n",
    "\n",
    "## 1. Meritve in negotovosti\n",
    "\n",
    "**Merjene količine:**\n",
    "- Koncentracija saharoze, $c$ (npr. v g/mL)\n",
    "- Valovna dolžina, $\\lambda$ (v nm, poznana od lasera)\n",
    "- Kot rotacije, $\\alpha$ (v stopinjah, iz polarimetra)\n",
    "\n",
    "**Negotovosti:**\n",
    "- Absolutna napaka koncentracije, $\\Delta c$  \n",
    "  Primer: če tehtnica meri s 0.001 g natančnostjo in pripravljaš raztopino, oceni to napako.\n",
    "- Absolutna napaka kota rotacije, $\\Delta \\alpha$  \n",
    "  Podatki od polarimetra (npr. ±0.05°) ali ocena glede na merilni instrument.\n",
    "- Napaka valovne dolžine ni potrebna, če uporabljaš laserske diode, ker so valovne dolžine zelo točne.\n",
    "\n",
    "---\n",
    "\n",
    "## 2. Postopek priprave podatkov z napakami\n",
    "\n",
    "Izpis meritve z napako:\n",
    "\n",
    "$$\n",
    "c \\pm \\Delta c, \\quad \\lambda, \\quad \\alpha \\pm \\Delta \\alpha\n",
    "$$\n",
    "\n",
    "**Primer (za eno meritev):**\n",
    "\n",
    "| koncentracija (g/mL) | napaka koncentracije (g/mL) | valovna dolžina (nm) | kot rotacije (°) | napaka kota (°) |\n",
    "|----------------------|-----------------------------|----------------------|------------------|-----------------|\n",
    "| 0.05                 | 0.001                       | 650                  | 3.50             | 0.05            |\n",
    "\n",
    "---\n",
    "\n",
    "## 3. Enačbe za nadaljnjo analizo\n",
    "\n",
    "Kot rotacije je povezan s koncentracijo in dolžino poti (zaenkrat je dolžina poti konstantna, npr. 1 dm):\n",
    "\n",
    "$$\n",
    "\\alpha = [\\alpha]_\\lambda \\cdot c \\cdot l\n",
    "$$\n",
    "\n",
    "Če boš meril pri različnih koncentracijah, lahko izračunaš specifično rotacijo $[\\alpha]_\\lambda$ s formulo:\n",
    "\n",
    "$$\n",
    "[\\alpha]_\\lambda = \\frac{\\alpha}{c \\cdot l}\n",
    "$$\n",
    "\n",
    "---\n",
    "\n",
    "\n",
    "---\n",
    "\n",
    "## 5. Primer navodil za pripravo podatkov\n",
    "\n",
    "1. Pripravi sladkorno raztopino različnih koncentracij $c$ (npr. 0.01, 0.03, 0.05 g/mL). Pri pripravi upoštevaj merilno napako tehtnice ali volumna.\n",
    "2. Izmeri kot rotacije $\\alpha$ pri vsaki koncentraciji za laserja z valovnimi dolžinami $\\lambda_1 = 650\\, \\mathrm{nm}$ in $\\lambda_2 = 532\\, \\mathrm{nm}$.\n",
    "3. Zapiši meritve v tabelo z vsemi vrednostmi in njihovimi napakami.\n",
    "4. Izračunaj specifično rotacijo po formuli zgoraj ter izračunaj njeno negotovost.\n",
    "\n",
    "---\n",
    "\n"
   ]
  },
  {
   "cell_type": "markdown",
   "id": "f0367814",
   "metadata": {},
   "source": [
    "$[\\alpha](\\lambda) = \\frac{k \\lambda^2}{\\lambda^2 - A^2}$\n"
   ]
  },
  {
   "cell_type": "markdown",
   "id": "6656f57d",
   "metadata": {},
   "source": [
    "# Analiza specifične rotacije z uporabo Drudejeve enačbe\n",
    "\n",
    "Merili smo specifično rotacijo $[\\alpha](\\lambda)$ pri različnih valovnih dolžinah. Za te podatke želimo določiti konstanti $k$ in $A$, ki opisujeta disperzijo optične aktivnosti po enačbi:\n",
    "\n",
    "$$\n",
    "[\\alpha](\\lambda) = \\frac{k \\lambda^2}{\\lambda^2 - A^2}\n",
    "$$\n",
    "\n",
    "kjer je:\n",
    "- $\\lambda$ valovna dolžina (v nm),\n",
    "- $[\\alpha](\\lambda)$ specifična rotacija (v ° / (g/mL·dm)),\n",
    "- $k$, $A$ sta konstanti, ki ju bomo določili z ujemanjem.\n",
    "\n",
    "Spodaj izvedemo nelinearno prileganje (curve fitting) z uporabo `scipy.optimize.curve_fit`.\n"
   ]
  },
  {
   "cell_type": "code",
   "execution_count": 222,
   "id": "50492ea4",
   "metadata": {},
   "outputs": [],
   "source": [
    "# Uvoz knjižnic\n",
    "import numpy as np\n",
    "import matplotlib.pyplot as plt\n",
    "from scipy.optimize import curve_fit"
   ]
  },
  {
   "cell_type": "markdown",
   "id": "f25b6b56",
   "metadata": {},
   "source": [
    "## Podatki iz eksperimenta\n",
    "\n",
    "Zabeležili smo naslednje podatke:\n",
    "- koncentracija je enaka za vse meritve, zato lahko primerjamo le specifično rotacijo."
   ]
  },
  {
   "cell_type": "code",
   "execution_count": 223,
   "id": "71369101",
   "metadata": {},
   "outputs": [],
   "source": [
    "# Podatki (lambda v nm, alpha v deg/(g/mL·dm))\n",
    "lambda_vals = np.array([532, 589, 650])  # nm\n",
    "alpha_vals = np.array([25.2, 20.0, 17.1])  # specifična rotacija\n",
    "\n",
    "# Če imaš napake, lahko dodaš:\n",
    "# alpha_err = np.array([0.3, 0.3, 0.3])"
   ]
  },
  {
   "cell_type": "markdown",
   "id": "fdfced61",
   "metadata": {},
   "source": [
    "## Definicija modela\n",
    "\n",
    "Uporabimo model:\n",
    "\n",
    "$$\n",
    "[\\alpha](\\lambda) = \\frac{k \\lambda^2}{\\lambda^2 - A^2}\n",
    "$$"
   ]
  },
  {
   "cell_type": "code",
   "execution_count": 224,
   "id": "f5883457",
   "metadata": {},
   "outputs": [],
   "source": [
    "# Drudejeva enačba\n",
    "def drude_model(lam, k, A):\n",
    "    return (k * lam**2) / (lam**2 - A**2)"
   ]
  },
  {
   "cell_type": "markdown",
   "id": "529d39a5",
   "metadata": {},
   "source": [
    "## Prileganje modela eksperimentalnim podatkom"
   ]
  },
  {
   "cell_type": "code",
   "execution_count": 225,
   "id": "427b1cdd",
   "metadata": {},
   "outputs": [],
   "source": [
    "# Tu vnesemo svoje podatke\n",
    "lambda_vals = np.array([650, 590, 532, 480])  # valovne dolžine v nm\n",
    "lambda_errs = np.array([5, 5, 5, 5])  # napake valovnih dolžin\n",
    "alpha_vals = np.array([15.2, 16.7, 18.4, 19.9])  # specifična rotacija\n",
    "alpha_errs = np.array([0.3, 0.3, 0.3, 0.3])      # napake specifične rotacije\n"
   ]
  },
  {
   "cell_type": "code",
   "execution_count": 226,
   "id": "a18401d4",
   "metadata": {},
   "outputs": [
    {
     "name": "stdout",
     "output_type": "stream",
     "text": [
      "Ujemajoči parametri:\n",
      "  k = 12.25 ± 0.35\n",
      "  A = 300.36 ± 8.90 nm\n"
     ]
    },
    {
     "data": {
      "image/png": "[encoded data removed]",
      "text/plain": [
       "<Figure size 800x500 with 1 Axes>"
      ]
     },
     "metadata": {},
     "output_type": "display_data"
    }
   ],
   "source": [
    "# Uvozimo potrebne knjižnice\n",
    "import numpy as np\n",
    "import matplotlib.pyplot as plt\n",
    "from scipy.optimize import curve_fit\n",
    "\n",
    "# Drudejeva funkcija\n",
    "def drude(lambda_nm, k, A):\n",
    "    return (k * lambda_nm**2) / (lambda_nm**2 - A**2)\n",
    "\n",
    "\n",
    "# Prileganje z upoštevanjem napak v y (x napake ne vplivajo na fit)\n",
    "params, cov = curve_fit(drude, lambda_vals, alpha_vals, sigma=alpha_errs, absolute_sigma=True, p0=(1e4, 200))\n",
    "k_fit, A_fit = params\n",
    "k_err, A_err = np.sqrt(np.diag(cov))\n",
    "\n",
    "# Izpis rezultatov\n",
    "print(\"Ujemajoči parametri:\")\n",
    "print(f\"  k = {k_fit:.2f} ± {k_err:.2f}\")\n",
    "print(f\"  A = {A_fit:.2f} ± {A_err:.2f} nm\")\n",
    "\n",
    "# Priprava za prikaz prileganja\n",
    "lambda_fit = np.linspace(450, 700, 300)\n",
    "alpha_fit = drude(lambda_fit, k_fit, A_fit)\n",
    "\n",
    "# Risanje grafa z error bar-i v obeh smereh\n",
    "plt.figure(figsize=(8, 5))\n",
    "\n",
    "plt.errorbar(\n",
    "    lambda_vals,\n",
    "    alpha_vals,\n",
    "    xerr=lambda_errs,\n",
    "    yerr=alpha_errs,\n",
    "    fmt='o',\n",
    "    markersize=6,\n",
    "    markerfacecolor='steelblue',\n",
    "    markeredgecolor='black',\n",
    "    ecolor='gray',\n",
    "    elinewidth=1,\n",
    "    capsize=4,\n",
    "    label='Izmerjeni podatki z napako'\n",
    ")\n",
    "\n",
    "# Prileganje funkcije\n",
    "plt.plot(lambda_fit, alpha_fit, color='cornflowerblue', linewidth=2.2, label='Drudejevo prileganje')\n",
    "\n",
    "# Oznake in estetika\n",
    "plt.xlabel('Valovna dolžina λ (nm)')\n",
    "plt.ylabel('Specifična rotacija [α](λ)')\n",
    "plt.title('Prileganje podatkov Drudejevi enačbi z napakami v x in y')\n",
    "plt.grid(True, linestyle='--', alpha=0.6)\n",
    "plt.legend()\n",
    "plt.tight_layout()\n",
    "plt.show()"
   ]
  },
  {
   "cell_type": "markdown",
   "id": "9d805d1e",
   "metadata": {},
   "source": [
    "# Dejanske meritve"
   ]
  },
  {
   "cell_type": "code",
   "execution_count": 227,
   "id": "8f996cd0",
   "metadata": {},
   "outputs": [],
   "source": [
    "# Dolžina cevi v dm\n",
    "L_dm = 11.5 \n",
    "abs_L_dm = 0.1  # napaka dolžine cevi v dm\n",
    "rel_L_dm = abs_L_dm / L_dm  # relativna napaka dolžine cevi"
   ]
  },
  {
   "cell_type": "code",
   "execution_count": 228,
   "id": "08f06c87",
   "metadata": {},
   "outputs": [
    {
     "data": {
      "text/html": [
       "<div>\n",
       "<style scoped>\n",
       "    .dataframe tbody tr th:only-of-type {\n",
       "        vertical-align: middle;\n",
       "    }\n",
       "\n",
       "    .dataframe tbody tr th {\n",
       "        vertical-align: top;\n",
       "    }\n",
       "\n",
       "    .dataframe thead th {\n",
       "        text-align: right;\n",
       "    }\n",
       "</style>\n",
       "<table border=\"1\" class=\"dataframe\">\n",
       "  <thead>\n",
       "    <tr style=\"text-align: right;\">\n",
       "      <th></th>\n",
       "      <th>c</th>\n",
       "      <th>\\alpha r</th>\n",
       "      <th>\\alpha z</th>\n",
       "    </tr>\n",
       "  </thead>\n",
       "  <tbody>\n",
       "    <tr>\n",
       "      <th>0</th>\n",
       "      <td>0.00</td>\n",
       "      <td>75</td>\n",
       "      <td>79</td>\n",
       "    </tr>\n",
       "    <tr>\n",
       "      <th>1</th>\n",
       "      <td>0.03</td>\n",
       "      <td>90</td>\n",
       "      <td>96</td>\n",
       "    </tr>\n",
       "    <tr>\n",
       "      <th>2</th>\n",
       "      <td>0.05</td>\n",
       "      <td>102</td>\n",
       "      <td>110</td>\n",
       "    </tr>\n",
       "    <tr>\n",
       "      <th>3</th>\n",
       "      <td>0.07</td>\n",
       "      <td>115</td>\n",
       "      <td>126</td>\n",
       "    </tr>\n",
       "    <tr>\n",
       "      <th>4</th>\n",
       "      <td>0.09</td>\n",
       "      <td>131</td>\n",
       "      <td>136</td>\n",
       "    </tr>\n",
       "  </tbody>\n",
       "</table>\n",
       "</div>"
      ],
      "text/plain": [
       "      c  \\alpha r  \\alpha z\n",
       "0  0.00        75        79\n",
       "1  0.03        90        96\n",
       "2  0.05       102       110\n",
       "3  0.07       115       126\n",
       "4  0.09       131       136"
      ]
     },
     "execution_count": 228,
     "metadata": {},
     "output_type": "execute_result"
    }
   ],
   "source": [
    "import pandas as pd\n",
    "\n",
    "# Uvoz podatkov iz Excel datoteke 'meritve.xlsx'\n",
    "df_meritve = pd.read_excel('meritve.xlsx')\n",
    "\n",
    "# Prikaz prvih nekaj vrstic za pregled\n",
    "df_meritve.head()"
   ]
  },
  {
   "cell_type": "markdown",
   "id": "7b667e9d",
   "metadata": {},
   "source": [
    "Napake meritev\n",
    "\n"
   ]
  },
  {
   "cell_type": "code",
   "execution_count": 229,
   "id": "6181275e",
   "metadata": {},
   "outputs": [
    {
     "name": "stdout",
     "output_type": "stream",
     "text": [
      "Relativna napaka volumna: 0.02 (2.0%)\n"
     ]
    }
   ],
   "source": [
    "# Volumen tekočine v mL\n",
    "V_mL = 3000\n",
    "abs_V_mL = 60  # napaka volumna v mL\n",
    "rel_V_mL = abs_V_mL / V_mL  # relativna napaka volumna\n",
    "print(f\"Relativna napaka volumna: {rel_V_mL:.2f} ({rel_V_mL*100:.1f}%)\")"
   ]
  },
  {
   "cell_type": "code",
   "execution_count": 230,
   "id": "1f67f357",
   "metadata": {},
   "outputs": [
    {
     "data": {
      "text/plain": [
       "[nan,\n",
       " 0.03333333333333333,\n",
       " 0.02,\n",
       " 0.014285714285714284,\n",
       " 0.011111111111111112,\n",
       " 0.01]"
      ]
     },
     "execution_count": 230,
     "metadata": {},
     "output_type": "execute_result"
    }
   ],
   "source": [
    "# napaka mase v g\n",
    "abs_m0 = 0\n",
    "abs_m = 3 # napaka mase v g\n",
    "# Izračun abs_m / (c * V_mL) za vsako koncentracijo c v df_meritve (vključno z 0)\n",
    "rel_m_error = []\n",
    "for c in df_meritve['c']:\n",
    "    if c != 0:\n",
    "        value = abs_m / (c * V_mL)\n",
    "    else:\n",
    "        value = np.nan  # ali np.inf, če želiš označiti nedoločeno\n",
    "    rel_m_error.append(value)\n",
    "\n",
    "rel_m_error  # seznam rezultatov za vsako c\n"
   ]
  },
  {
   "cell_type": "markdown",
   "id": "87a74db9",
   "metadata": {},
   "source": [
    "Meritve z odšteto začetno vrednostno"
   ]
  },
  {
   "cell_type": "code",
   "execution_count": 231,
   "id": "29aa5650",
   "metadata": {},
   "outputs": [
    {
     "data": {
      "text/html": [
       "<div>\n",
       "<style scoped>\n",
       "    .dataframe tbody tr th:only-of-type {\n",
       "        vertical-align: middle;\n",
       "    }\n",
       "\n",
       "    .dataframe tbody tr th {\n",
       "        vertical-align: top;\n",
       "    }\n",
       "\n",
       "    .dataframe thead th {\n",
       "        text-align: right;\n",
       "    }\n",
       "</style>\n",
       "<table border=\"1\" class=\"dataframe\">\n",
       "  <thead>\n",
       "    <tr style=\"text-align: right;\">\n",
       "      <th></th>\n",
       "      <th>c</th>\n",
       "      <th>\\alpha r</th>\n",
       "      <th>\\alpha z</th>\n",
       "    </tr>\n",
       "  </thead>\n",
       "  <tbody>\n",
       "    <tr>\n",
       "      <th>0</th>\n",
       "      <td>0.00</td>\n",
       "      <td>0</td>\n",
       "      <td>0</td>\n",
       "    </tr>\n",
       "    <tr>\n",
       "      <th>1</th>\n",
       "      <td>0.03</td>\n",
       "      <td>15</td>\n",
       "      <td>17</td>\n",
       "    </tr>\n",
       "    <tr>\n",
       "      <th>2</th>\n",
       "      <td>0.05</td>\n",
       "      <td>27</td>\n",
       "      <td>31</td>\n",
       "    </tr>\n",
       "    <tr>\n",
       "      <th>3</th>\n",
       "      <td>0.07</td>\n",
       "      <td>40</td>\n",
       "      <td>47</td>\n",
       "    </tr>\n",
       "    <tr>\n",
       "      <th>4</th>\n",
       "      <td>0.09</td>\n",
       "      <td>56</td>\n",
       "      <td>57</td>\n",
       "    </tr>\n",
       "    <tr>\n",
       "      <th>5</th>\n",
       "      <td>0.10</td>\n",
       "      <td>62</td>\n",
       "      <td>64</td>\n",
       "    </tr>\n",
       "  </tbody>\n",
       "</table>\n",
       "</div>"
      ],
      "text/plain": [
       "      c  \\alpha r  \\alpha z\n",
       "0  0.00         0         0\n",
       "1  0.03        15        17\n",
       "2  0.05        27        31\n",
       "3  0.07        40        47\n",
       "4  0.09        56        57\n",
       "5  0.10        62        64"
      ]
     },
     "execution_count": 231,
     "metadata": {},
     "output_type": "execute_result"
    }
   ],
   "source": [
    "df_standard = df_meritve.copy().assign(\n",
    "    **{\n",
    "        '\\\\alpha r': df_meritve['\\\\alpha r'] - df_meritve['\\\\alpha r'].iloc[0],\n",
    "        '\\\\alpha z': df_meritve['\\\\alpha z'] - df_meritve['\\\\alpha z'].iloc[0]\n",
    "    }\n",
    ")\n",
    "\n",
    "df_standard"
   ]
  },
  {
   "cell_type": "code",
   "execution_count": 232,
   "id": "02c75c16",
   "metadata": {},
   "outputs": [
    {
     "data": {
      "text/plain": [
       "[np.float64(0.26666666666666666),\n",
       " np.float64(0.14814814814814814),\n",
       " np.float64(0.1),\n",
       " np.float64(0.07142857142857142),\n",
       " np.float64(0.06451612903225806)]"
      ]
     },
     "execution_count": 232,
     "metadata": {},
     "output_type": "execute_result"
    }
   ],
   "source": [
    "abs_rot = 4\n",
    "rel_rot_err_r = [\n",
    "    abs_rot / row['\\\\alpha r']\n",
    "    for idx, row in df_standard.iterrows()\n",
    "    if idx > 0 and row['\\\\alpha r'] != 0\n",
    "]\n",
    "rel_rot_err_r"
   ]
  },
  {
   "cell_type": "code",
   "execution_count": 233,
   "id": "68b7975e",
   "metadata": {},
   "outputs": [
    {
     "data": {
      "text/plain": [
       "[np.float64(0.23529411764705882),\n",
       " np.float64(0.12903225806451613),\n",
       " np.float64(0.0851063829787234),\n",
       " np.float64(0.07017543859649122),\n",
       " np.float64(0.0625)]"
      ]
     },
     "execution_count": 233,
     "metadata": {},
     "output_type": "execute_result"
    }
   ],
   "source": [
    "\n",
    "rel_rot_err_z = [\n",
    "    abs_rot / row['\\\\alpha z']\n",
    "    for idx, row in df_standard.iterrows()\n",
    "    if idx > 0 and row['\\\\alpha z'] != 0\n",
    "]\n",
    "rel_rot_err_z"
   ]
  },
  {
   "cell_type": "code",
   "execution_count": null,
   "id": "04a1df88",
   "metadata": {},
   "outputs": [],
   "source": []
  },
  {
   "cell_type": "markdown",
   "id": "545fd46e",
   "metadata": {},
   "source": [
    "## Izračun [α] za vsako meritve\n",
    "\n",
    "$[\\alpha] = \\frac{\\alpha}{c \\cdot L}$"
   ]
  },
  {
   "cell_type": "markdown",
   "id": "9f664fe6",
   "metadata": {},
   "source": [
    "### rdeča"
   ]
  },
  {
   "cell_type": "code",
   "execution_count": 234,
   "id": "51b4dbea",
   "metadata": {},
   "outputs": [
    {
     "name": "stdout",
     "output_type": "stream",
     "text": [
      "[np.float64(43.47826086956522), np.float64(46.95652173913043), np.float64(49.689440993788814), np.float64(54.10628019323672), np.float64(53.91304347826086)]\n"
     ]
    },
    {
     "data": {
      "text/plain": [
       "[np.float64(0.32869565217391306),\n",
       " np.float64(0.19684380032206117),\n",
       " np.float64(0.14298136645962733),\n",
       " np.float64(0.11123533471359558),\n",
       " np.float64(0.10321178120617111)]"
      ]
     },
     "execution_count": 234,
     "metadata": {},
     "output_type": "execute_result"
    }
   ],
   "source": [
    "# Izračun seznama specifičnih rotacij za rdečo (drugi stolpec, vrstice > 0)\n",
    "spec_rot_r = [\n",
    "    row['\\\\alpha r'] / (row['c'] * L_dm)\n",
    "    for idx, row in df_standard.iterrows()\n",
    "    if idx > 0 and row['c'] != 0\n",
    "]\n",
    "print(spec_rot_r)\n",
    "\n",
    "# Izračun relativnih napak za vsako koncentracijo (vrstice > 0 in c != 0)\n",
    "# Izračun relativnih napak za vsako koncentracijo (vrstice > 0 in c != 0), vključno z rel_rot_err_r\n",
    "rel_errors_r = [\n",
    "    rel_L_dm + rel_m + rel_V_mL + rel_rot_err_r[idx - 1]\n",
    "    for idx, rel_m in enumerate(rel_m_error)\n",
    "    if idx > 0 and df_standard.loc[idx, 'c'] != 0\n",
    "]\n",
    "rel_errors_r\n"
   ]
  },
  {
   "cell_type": "markdown",
   "id": "a1647418",
   "metadata": {},
   "source": [
    "$[\\alpha]_{c=0.030} = 43\\left(1 \\pm 0.33\\right)$ \\\n",
    "$[\\alpha]_{c=0.050} = 47\\left(1 \\pm 0.20\\right)$ \\\n",
    "$[\\alpha]_{c=0.070} = 50\\left(1 \\pm 0.14\\right)$ \\\n",
    "$[\\alpha]_{c=0.090} = 54\\left(1 \\pm 0.11\\right)$ \\\n",
    "$[\\alpha]_{c=0.100} = 54\\left(1 \\pm 0.10\\right)$ "
   ]
  },
  {
   "cell_type": "markdown",
   "id": "051f869f",
   "metadata": {},
   "source": [
    "## zelena\n"
   ]
  },
  {
   "cell_type": "code",
   "execution_count": 235,
   "id": "2f7f84ba",
   "metadata": {},
   "outputs": [
    {
     "name": "stdout",
     "output_type": "stream",
     "text": [
      "[np.float64(49.275362318840585), np.float64(53.91304347826086), np.float64(58.38509316770186), np.float64(55.072463768115945), np.float64(55.65217391304347)]\n"
     ]
    },
    {
     "data": {
      "text/plain": [
       "[np.float64(0.2973231031543052),\n",
       " np.float64(0.17772791023842915),\n",
       " np.float64(0.12808774943835072),\n",
       " np.float64(0.10998220188151538),\n",
       " np.float64(0.10119565217391305)]"
      ]
     },
     "execution_count": 235,
     "metadata": {},
     "output_type": "execute_result"
    }
   ],
   "source": [
    "# Izračun seznama specifičnih rotacij za zeleno (tretji stolpec, vrstice > 0)\n",
    "spec_rot_z = [\n",
    "    row['\\\\alpha z'] / (row['c'] * L_dm)\n",
    "    for idx, row in df_standard.iterrows()\n",
    "    if idx > 0 and row['c'] != 0\n",
    "]\n",
    "print(spec_rot_z)\n",
    "\n",
    "# Izračun relativnih napak za vsako koncentracijo (vrstice > 0 in c != 0)\n",
    "rel_errors_z = [\n",
    "    rel_L_dm + rel_m + rel_V_mL + rel_rot_err_z[idx - 1]\n",
    "    for idx, rel_m in enumerate(rel_m_error)\n",
    "    if idx > 0 and df_standard.loc[idx, 'c'] != 0\n",
    "]\n",
    "rel_errors_z\n"
   ]
  },
  {
   "cell_type": "markdown",
   "id": "0fafbb9c",
   "metadata": {},
   "source": [
    "$[\\alpha]_{c=0.030} = 49\\left(1 \\pm 0.30\\right)$ \\\n",
    "$[\\alpha]_{c=0.050} = 54\\left(1 \\pm 0.18\\right)$ \\\n",
    "$[\\alpha]_{c=0.070} = 58\\left(1 \\pm 0.13\\right)$ \\\n",
    "$[\\alpha]_{c=0.090} = 55\\left(1 \\pm 0.11\\right)$ \\\n",
    "$[\\alpha]_{c=0.100} = 56\\left(1 \\pm 0.10\\right)$ "
   ]
  },
  {
   "cell_type": "markdown",
   "id": "a98fdcf1",
   "metadata": {},
   "source": [
    "## Priprava za analizo z Drudejevo metodo"
   ]
  },
  {
   "cell_type": "markdown",
   "id": "d0fa9c66",
   "metadata": {},
   "source": [
    "$$\n",
    "[\\alpha](\\lambda) = \\frac{k \\lambda^2}{\\lambda^2 - A^2}\n",
    "$$\n"
   ]
  },
  {
   "cell_type": "markdown",
   "id": "19c71e1d",
   "metadata": {},
   "source": [
    "### valovne dolžine laserjev"
   ]
  },
  {
   "cell_type": "code",
   "execution_count": 236,
   "id": "d5573897",
   "metadata": {},
   "outputs": [],
   "source": [
    "lambda_r = 635\n",
    "lambda_z = 532"
   ]
  },
  {
   "cell_type": "code",
   "execution_count": 237,
   "id": "215c03eb",
   "metadata": {},
   "outputs": [],
   "source": [
    "# Tu vnesemo svoje podatke\n",
    "lambda_vals = [635, 635, 635, 635, 635, 532, 532, 532, 532,532]  # valovne dolžine v nm\n",
    "lambda_errs = [1] * len(lambda_vals)  # predpostavljamo napako ±1 nm za vsako valovno dolžino\n",
    "\n",
    "\n",
    "\n",
    "alpha_vals = np.concatenate((spec_rot_r, spec_rot_z))  # specifična rotacija\n",
    "\n",
    "alpha_errs_r = [val * rel for val, rel in zip(spec_rot_r, rel_errors_r)]\n",
    "alpha_errs_z = [val * rel for val, rel in zip(spec_rot_z, rel_errors_z)]\n",
    "alpha_errs = np.concatenate((alpha_errs_r, alpha_errs_z))  # napake specifične rotacije"
   ]
  },
  {
   "cell_type": "code",
   "execution_count": 238,
   "id": "a99a3978",
   "metadata": {},
   "outputs": [
    {
     "name": "stdout",
     "output_type": "stream",
     "text": [
      "Ujemajoči parametri:\n",
      "  k = 44.61 ± 9.47\n",
      "  A = 235.54 ± 120.24 nm\n"
     ]
    },
    {
     "data": {
      "image/png": "[encoded data removed]",
      "text/plain": [
       "<Figure size 800x500 with 1 Axes>"
      ]
     },
     "metadata": {},
     "output_type": "display_data"
    }
   ],
   "source": [
    "# Uvozimo potrebne knjižnice\n",
    "import numpy as np\n",
    "import matplotlib.pyplot as plt\n",
    "from scipy.optimize import curve_fit\n",
    "\n",
    "# Drudejeva funkcija\n",
    "def drude(lambda_nm, k, A):\n",
    "    return (k * lambda_nm**2) / (lambda_nm**2 - A**2)\n",
    "\n",
    "\n",
    "# Prileganje z upoštevanjem napak v y (x napake ne vplivajo na fit)\n",
    "params, cov = curve_fit(drude, lambda_vals, alpha_vals, sigma=alpha_errs, absolute_sigma=True, p0=(1e4, 200))\n",
    "k_fit, A_fit = params\n",
    "k_err, A_err = np.sqrt(np.diag(cov))\n",
    "\n",
    "# Izpis rezultatov\n",
    "print(\"Ujemajoči parametri:\")\n",
    "print(f\"  k = {k_fit:.2f} ± {k_err:.2f}\")\n",
    "print(f\"  A = {A_fit:.2f} ± {A_err:.2f} nm\")\n",
    "\n",
    "# Priprava za prikaz prileganja\n",
    "lambda_fit = np.linspace(450, 700, 300)\n",
    "alpha_fit = drude(lambda_fit, k_fit, A_fit)\n",
    "\n",
    "# Risanje grafa z error bar-i v obeh smereh\n",
    "plt.figure(figsize=(8, 5))\n",
    "\n",
    "plt.errorbar(\n",
    "    lambda_vals,\n",
    "    alpha_vals,\n",
    "    xerr=lambda_errs,\n",
    "    yerr=alpha_errs,\n",
    "    fmt='o',\n",
    "    markersize=6,\n",
    "    markerfacecolor='steelblue',\n",
    "    markeredgecolor='black',\n",
    "    ecolor='gray',\n",
    "    elinewidth=1,\n",
    "    capsize=4,\n",
    "    label='Izmerjeni podatki z napako'\n",
    ")\n",
    "\n",
    "# Prileganje funkcije\n",
    "plt.plot(lambda_fit, alpha_fit, color='cornflowerblue', linewidth=2.2, label='Drudejevo prileganje')\n",
    "\n",
    "# Oznake in estetika\n",
    "plt.xlabel('Valovna dolžina λ (nm)')\n",
    "plt.ylabel('Specifična rotacija [α](λ)')\n",
    "plt.title('Prileganje podatkov Drudejevi enačbi z napakami v x in y')\n",
    "plt.grid(True, linestyle='--', alpha=0.6)\n",
    "plt.legend()\n",
    "plt.tight_layout()\n",
    "plt.show()"
   ]
  },
  {
   "cell_type": "code",
   "execution_count": 239,
   "id": "95d32cda",
   "metadata": {},
   "outputs": [
    {
     "name": "stdout",
     "output_type": "stream",
     "text": [
      "Relativna napaka k: 21.24%\n",
      "Relativna napaka A: 51.05%\n"
     ]
    }
   ],
   "source": [
    "k_rel = k_err / k_fit\n",
    "A_rel = A_err / A_fit\n",
    "\n",
    "print(f\"Relativna napaka k: {k_rel:.2%}\")\n",
    "print(f\"Relativna napaka A: {A_rel:.2%}\")\n"
   ]
  },
  {
   "cell_type": "code",
   "execution_count": 240,
   "id": "bdf8e5c3",
   "metadata": {},
   "outputs": [
    {
     "name": "stdout",
     "output_type": "stream",
     "text": [
      "∂[α]/∂k = -lam**2/(A**2 - lam**2)\n",
      "∂[α]/∂A = 2*A*k*lam**2/(A**2 - lam**2)**2\n",
      "∂[α]/∂λ = -2*A**2*k*lam/(A**2 - lam**2)**2\n"
     ]
    }
   ],
   "source": [
    "from sympy import symbols, diff, simplify\n",
    "\n",
    "# Define symbols\n",
    "k, A, lam = symbols('k A lam')\n",
    "\n",
    "# Define the function\n",
    "alpha = k * lam**2 / (lam**2 - A**2)\n",
    "\n",
    "# Partial derivatives\n",
    "d_alpha_dk = simplify(diff(alpha, k))\n",
    "d_alpha_dA = simplify(diff(alpha, A))\n",
    "d_alpha_dlam = simplify(diff(alpha, lam))\n",
    "\n",
    "print(\"∂[α]/∂k =\", d_alpha_dk)\n",
    "print(\"∂[α]/∂A =\", d_alpha_dA)\n",
    "print(\"∂[α]/∂λ =\", d_alpha_dlam)"
   ]
  },
  {
   "cell_type": "markdown",
   "id": "cdc222ff",
   "metadata": {},
   "source": [
    "\n",
    "Delni odvodi Drudejeve funkcije:\n",
    "\n",
    "\n",
    "$\\frac{\\partial [\\alpha]}{\\partial k} = \\frac{-\\lambda^2}{A^2 - \\lambda^2}$ \n",
    "\n",
    "$\\frac{\\partial [\\alpha]}{\\partial A} = \\frac{2A k \\lambda^2}{(A^2 - \\lambda^2)^2}$ \n",
    "\n"
   ]
  },
  {
   "cell_type": "code",
   "execution_count": 242,
   "id": "1d77192f",
   "metadata": {},
   "outputs": [
    {
     "name": "stdout",
     "output_type": "stream",
     "text": [
      "Δ[α](635 nm) = 19.41\n",
      "[α](635 nm) = 68.23 ± 19.41\n",
      "Δ[α](532 nm) = 25.59\n",
      "[α](532 nm) = 82.54 ± 25.59\n"
     ]
    }
   ],
   "source": [
    "from sympy import lambdify\n",
    "\n",
    "# Uporabi vrednosti: k_fit, k_err, A_fit, A_err, lambda_r ali lambda_z\n",
    "# Izračunamo napako za rdečo valovno dolžino (lambda_r)\n",
    "lam_val = lambda_r\n",
    "\n",
    "# Pretvori odvode v funkcije\n",
    "d_alpha_dk_func = lambdify((k, A, lam), d_alpha_dk)\n",
    "d_alpha_dA_func = lambdify((k, A, lam), d_alpha_dA)\n",
    "\n",
    "# Izračunaj odvode pri dobljenih parametrih\n",
    "d_alpha_dk_val = d_alpha_dk_func(k_fit, A_fit, lam_val)\n",
    "d_alpha_dA_val = d_alpha_dA_func(k_fit, A_fit, lam_val)\n",
    "\n",
    "# Skupna napaka\n",
    "delta_alpha = abs(d_alpha_dk_val) * k_err + abs(d_alpha_dA_val) * A_err\n",
    "print(f\"Δ[α]({lam_val} nm) = {delta_alpha:.2f}\")\n",
    "print(f\"[α]({lam_val} nm) = {d_alpha_dk_func(k_fit, A_fit, lam_val) * k_fit + d_alpha_dA_func(k_fit, A_fit, lam_val) * A_fit:.2f} ± {delta_alpha:.2f}\")\n",
    "\n",
    "\n",
    "# Uporabi vrednosti: k_fit, k_err, A_fit, A_err, lambda_r ali lambda_z\n",
    "# Izračunamo napako za rdečo valovno dolžino (lambda_r)\n",
    "lam_val = lambda_z\n",
    "\n",
    "# Pretvori odvode v funkcije\n",
    "d_alpha_dk_func = lambdify((k, A, lam), d_alpha_dk)\n",
    "d_alpha_dA_func = lambdify((k, A, lam), d_alpha_dA)\n",
    "\n",
    "# Izračunaj odvode pri dobljenih parametrih\n",
    "d_alpha_dk_val = d_alpha_dk_func(k_fit, A_fit, lam_val)\n",
    "d_alpha_dA_val = d_alpha_dA_func(k_fit, A_fit, lam_val)\n",
    "\n",
    "# Skupna napaka\n",
    "delta_alpha = abs(d_alpha_dk_val) * k_err + abs(d_alpha_dA_val) * A_err\n",
    "print(f\"Δ[α]({lam_val} nm) = {delta_alpha:.2f}\")\n",
    "print(f\"[α]({lam_val} nm) = {d_alpha_dk_func(k_fit, A_fit, lam_val) * k_fit + d_alpha_dA_func(k_fit, A_fit, lam_val) * A_fit:.2f} ± {delta_alpha:.2f}\")"
   ]
  },
  {
   "cell_type": "code",
   "execution_count": null,
   "id": "ade26508",
   "metadata": {},
   "outputs": [
    {
     "name": "stdout",
     "output_type": "stream",
     "text": [
      "[α](450 nm) = 61.44 ± 36.72\n"
     ]
    }
   ],
   "source": [
    "from sympy import lambdify\n",
    "\n",
    "# Izračun specifične rotacije in njene napake za modri laser (npr. λ = 450 nm)\n",
    "lambda_blue = 450  # nm\n",
    "\n",
    "# Uporabi Drudejev model in napake parametrov\n",
    "alpha_blue = (k_fit * lambda_blue**2) / (lambda_blue**2 - A_fit**2)\n",
    "\n",
    "# Delni odvodi po k in A (že definirani: d_alpha_dk, d_alpha_dA)\n",
    "\n",
    "d_alpha_dk_func = lambdify((k, A, lam), d_alpha_dk)\n",
    "d_alpha_dA_func = lambdify((k, A, lam), d_alpha_dA)\n",
    "\n",
    "d_alpha_dk_val = d_alpha_dk_func(k_fit, A_fit, lambda_blue)\n",
    "d_alpha_dA_val = d_alpha_dA_func(k_fit, A_fit, lambda_blue)\n",
    "\n",
    "# Skupna napaka (približek, zanemarimo korelacijo)\n",
    "delta_alpha_blue = abs(d_alpha_dk_val) * k_err + abs(d_alpha_dA_val) * A_err\n",
    "\n",
    "print(f\"[α](450 nm) = {alpha_blue:.2f} ± {delta_alpha_blue:.2f}\")"
   ]
  },
  {
   "cell_type": "markdown",
   "id": "0d5ecf18",
   "metadata": {},
   "source": [
    "to sem venda nekej zasra"
   ]
  }
 ],
 "metadata": {
  "kernelspec": {
   "display_name": "fe3",
   "language": "python",
   "name": "python3"
  },
  "language_info": {
   "codemirror_mode": {
    "name": "ipython",
    "version": 3
   },
   "file_extension": ".py",
   "mimetype": "text/x-python",
   "name": "python",
   "nbconvert_exporter": "python",
   "pygments_lexer": "ipython3",
   "version": "3.12.11"
  }
 },
 "nbformat": 4,
 "nbformat_minor": 5
}
